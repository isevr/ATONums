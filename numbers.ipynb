{
 "cells": [
  {
   "cell_type": "code",
   "execution_count": 1,
   "metadata": {},
   "outputs": [],
   "source": [
    "import string\n",
    "import numpy as np\n",
    "\n",
    "letters = string.ascii_lowercase\n",
    "let_num = {number:letter for number,letter in enumerate(letters,start=1)}"
   ]
  },
  {
   "cell_type": "code",
   "execution_count": 19,
   "metadata": {},
   "outputs": [
    {
     "name": "stdout",
     "output_type": "stream",
     "text": [
      "dodkvki\n"
     ]
    }
   ],
   "source": [
    "msg = '41541122119'\n",
    "sequence = [int(digit) for digit in msg]\n",
    "limit = 26\n",
    "new_sequence = []\n",
    "\n",
    "i = 0\n",
    "while i < len(sequence):\n",
    "    try:\n",
    "        a = ''.join([str(sequence[i]), str(sequence[i + 1])])\n",
    "        if int(a) <= limit:\n",
    "            new_sequence.append(a)\n",
    "            i += 2 \n",
    "        else:\n",
    "            new_sequence.append(str(sequence[i]))\n",
    "            i += 1  \n",
    "    except IndexError:\n",
    "        new_sequence.append(str(sequence[i]))\n",
    "        i += 1\n",
    "\n",
    "solution = [let_num[int(i)] for i in new_sequence]\n",
    "\n",
    "print(''.join(solution))"
   ]
  }
 ],
 "metadata": {
  "kernelspec": {
   "display_name": "base",
   "language": "python",
   "name": "python3"
  },
  "language_info": {
   "codemirror_mode": {
    "name": "ipython",
    "version": 3
   },
   "file_extension": ".py",
   "mimetype": "text/x-python",
   "name": "python",
   "nbconvert_exporter": "python",
   "pygments_lexer": "ipython3",
   "version": "3.10.9"
  }
 },
 "nbformat": 4,
 "nbformat_minor": 2
}
